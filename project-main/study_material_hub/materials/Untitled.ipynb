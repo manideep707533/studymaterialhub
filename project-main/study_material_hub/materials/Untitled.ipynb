{
 "cells": [
  {
   "cell_type": "markdown",
   "id": "1a587b3d-8b49-426d-8250-48caa1bc051f",
   "metadata": {},
   "source": [
    "splitting a string"
   ]
  },
  {
   "cell_type": "code",
   "execution_count": 6,
   "id": "225f3046-e90b-4747-87ef-c0125553ddb1",
   "metadata": {},
   "outputs": [
    {
     "name": "stdout",
     "output_type": "stream",
     "text": [
      "['1,2,3,4']\n"
     ]
    }
   ],
   "source": [
    "n='1,2,3,4'\n",
    "b=n.split(\" \")\n",
    "print(b)"
   ]
  },
  {
   "cell_type": "code",
   "execution_count": 7,
   "id": "bd94991c-3282-46cc-9638-9e99099da2a3",
   "metadata": {},
   "outputs": [
    {
     "name": "stdout",
     "output_type": "stream",
     "text": [
      "['1', '', '2', '', '3', '4', '']\n"
     ]
    }
   ],
   "source": [
    "nums=\"1  2  3 4 \"\n",
    "num_list=nums.split(' ')\n",
    "print(num_list)"
   ]
  },
  {
   "cell_type": "code",
   "execution_count": 8,
   "id": "77c43064-eae3-45ec-898e-f9c0ea2dc4a3",
   "metadata": {},
   "outputs": [
    {
     "name": "stdout",
     "output_type": "stream",
     "text": [
      "['python is ', ' progr', 'mming l', 'ngu', 'ge']\n"
     ]
    }
   ],
   "source": [
    "string1=\"python is a programming language\"\n",
    "b=string1.split('a')\n",
    "print(b)\n"
   ]
  },
  {
   "cell_type": "code",
   "execution_count": 11,
   "id": "ad57b17c-f32e-4d83-9bcd-32311d64994b",
   "metadata": {},
   "outputs": [
    {
     "data": {
      "text/plain": [
       "['', ' by ', ' execution of code']"
      ]
     },
     "execution_count": 11,
     "metadata": {},
     "output_type": "execute_result"
    }
   ],
   "source": [
    "string_a='step by step execution of code'\n",
    "a=string_a.split('step')\n",
    "a"
   ]
  },
  {
   "cell_type": "markdown",
   "id": "26b312d0-d7ea-4b1a-bdfc-8259ef55e89b",
   "metadata": {},
   "source": [
    "JOINING OF STRINGS"
   ]
  },
  {
   "cell_type": "code",
   "execution_count": 15,
   "id": "d802463a-0757-45c7-813e-7f225bcd7f21",
   "metadata": {},
   "outputs": [
    {
     "name": "stdout",
     "output_type": "stream",
     "text": [
      "['python is ', ' progr', 'mming l', 'ngu', 'ge']\n",
      "python is a programming language\n"
     ]
    }
   ],
   "source": [
    "s1='python is a programming language'\n",
    "r=s1.split('a')\n",
    "print(r)\n",
    "js='a'.join(r)\n",
    "print(js)"
   ]
  },
  {
   "cell_type": "code",
   "execution_count": 16,
   "id": "1c263640-1049-47c0-a1bf-22aa3b834768",
   "metadata": {},
   "outputs": [
    {
     "ename": "TypeError",
     "evalue": "sequence item 0: expected str instance, int found",
     "output_type": "error",
     "traceback": [
      "\u001b[1;31m---------------------------------------------------------------------------\u001b[0m",
      "\u001b[1;31mTypeError\u001b[0m                                 Traceback (most recent call last)",
      "Cell \u001b[1;32mIn[16], line 2\u001b[0m\n\u001b[0;32m      1\u001b[0m l1\u001b[38;5;241m=\u001b[39m\u001b[38;5;28mlist\u001b[39m(\u001b[38;5;28mrange\u001b[39m(\u001b[38;5;241m4\u001b[39m))\n\u001b[1;32m----> 2\u001b[0m s2\u001b[38;5;241m=\u001b[39m\u001b[38;5;124m'\u001b[39m\u001b[38;5;124m,\u001b[39m\u001b[38;5;124m'\u001b[39m\u001b[38;5;241m.\u001b[39mjoin(l1)\n\u001b[0;32m      3\u001b[0m s2\n",
      "\u001b[1;31mTypeError\u001b[0m: sequence item 0: expected str instance, int found"
     ]
    }
   ],
   "source": [
    "l1=list(range(4))\n",
    "s2=','.join(l1)\n",
    "s2"
   ]
  },
  {
   "cell_type": "code",
   "execution_count": null,
   "id": "5fdf5c49-55a7-448e-9f63-ad68bd31d579",
   "metadata": {},
   "outputs": [],
   "source": []
  }
 ],
 "metadata": {
  "kernelspec": {
   "display_name": "Python 3 (ipykernel)",
   "language": "python",
   "name": "python3"
  },
  "language_info": {
   "codemirror_mode": {
    "name": "ipython",
    "version": 3
   },
   "file_extension": ".py",
   "mimetype": "text/x-python",
   "name": "python",
   "nbconvert_exporter": "python",
   "pygments_lexer": "ipython3",
   "version": "3.12.4"
  }
 },
 "nbformat": 4,
 "nbformat_minor": 5
}
